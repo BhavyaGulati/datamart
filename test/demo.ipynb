{
 "cells": [
  {
   "cell_type": "code",
   "execution_count": 49,
   "metadata": {
    "collapsed": true
   },
   "outputs": [],
   "source": [
    "import sys, json, time, os\n",
    "sys.path.append(sys.path.append(os.path.join(os.getcwd(), '..')))\n",
    "from datamart.index_builder import IndexBuilder\n",
    "from datamart.query_manager import QueryManager"
   ]
  },
  {
   "cell_type": "markdown",
   "metadata": {},
   "source": [
    "Create es index"
   ]
  },
  {
   "cell_type": "code",
   "execution_count": 50,
   "metadata": {},
   "outputs": [],
   "source": [
    "es_index = \"datamart_tmp\"\n",
    "\n",
    "qm = QueryManager()\n",
    "\n",
    "if qm.check_exists(index=es_index):\n",
    "    qm.delete_index(index=[es_index])\n",
    "qm.create_index(index=es_index)"
   ]
  },
  {
   "cell_type": "code",
   "execution_count": 55,
   "metadata": {},
   "outputs": [],
   "source": [
    "tmp_description = \"tmp/tmp.json\"\n",
    "tmp_out = \"tmp/tmp_metadata.out\""
   ]
  },
  {
   "cell_type": "markdown",
   "metadata": {},
   "source": [
    "A sample dastaset schema file for NOOA"
   ]
  },
  {
   "cell_type": "code",
   "execution_count": 56,
   "metadata": {},
   "outputs": [
    {
     "name": "stdout",
     "output_type": "stream",
     "text": [
      "{\n  \"title\": \"TAVG\",\n  \"description\": \"Average temperature (tenths of degrees C)[Note that TAVG from source 'S' corresponds to an average for the period ending at 2400 UTC rather than local midnight]\",\n  \"url\": \"https://www1.ncdc.noaa.gov/pub/data/ghcn/daily/readme.txt\",\n  \"keywords\": [\n    \"Average\",\n    \"cloudiness\",\n    \"midnight\",\n    \"to\",\n    \"midnight\",\n    \"from\",\n    \"30-second\",\n    \"ceilometer\",\n    \"data\"\n  ],\n  \"provenance\": \"noaa.org\",\n  \"materialization\": {\n    \"python_path\": \"nooa_materializer\",\n    \"arguments\": {\n      \"type\": \"TAVG\"\n    }\n  },\n  \"variables\": [\n    {\n      \"name\": \"date\",\n      \"description\": \"the date of data\",\n      \"semantic_type\": [\n        \"https://metadata.datadrivendiscovery.org/types/Time\"\n      ],\n      \"temporal_coverage\": {\n        \"start\": \"1994-03-19T00:00:00\",\n        \"end\": \"1996-05-28T00:00:00\"\n      }\n    },\n    {\n      \"name\": \"stationId\",\n      \"description\": \"the id of station which has this data\",\n      \"semantic_type\": [\n        \"https://metadata.datadrivendiscovery.org/types/CategoricalData\"\n      ]\n    },\n    {\n      \"name\": \"city\",\n      \"description\": \"the city data belongs to\",\n      \"semantic_type\": [\n        \"https://metadata.datadrivendiscovery.org/types/Location\"\n      ],\n      \"named_entity\": null\n    },\n    {\n      \"name\": \"TAVG\",\n      \"description\": \"Average temperature (tenths of degrees C)[Note that TAVG from source 'S' corresponds to an average for the period ending at 2400 UTC rather than local midnight]\",\n      \"semantic_type\": [\n        \"http://schema.org/Float\"\n      ]\n    }\n  ]\n}\n"
     ]
    }
   ],
   "source": [
    "print(json.dumps(json.load(open(tmp_description)), indent=2))"
   ]
  },
  {
   "cell_type": "markdown",
   "metadata": {},
   "source": [
    "Create metadata"
   ]
  },
  {
   "cell_type": "code",
   "execution_count": 57,
   "metadata": {},
   "outputs": [],
   "source": [
    "index_builder = IndexBuilder()\n",
    "this_metadata = index_builder.indexing(description_path=tmp_description,\n",
    "                                       data_path=None,\n",
    "                                       query_data_for_indexing=True)"
   ]
  },
  {
   "cell_type": "markdown",
   "metadata": {},
   "source": [
    "A sample metadata for NOOA"
   ]
  },
  {
   "cell_type": "code",
   "execution_count": 58,
   "metadata": {},
   "outputs": [
    {
     "name": "stdout",
     "output_type": "stream",
     "text": [
      "{\n  \"datamart_id\": 0,\n  \"title\": \"TAVG\",\n  \"description\": \"Average temperature (tenths of degrees C)[Note that TAVG from source 'S' corresponds to an average for the period ending at 2400 UTC rather than local midnight]\",\n  \"url\": \"https://www1.ncdc.noaa.gov/pub/data/ghcn/daily/readme.txt\",\n  \"keywords\": [\n    \"Average\",\n    \"cloudiness\",\n    \"midnight\",\n    \"to\",\n    \"midnight\",\n    \"from\",\n    \"30-second\",\n    \"ceilometer\",\n    \"data\"\n  ],\n  \"date_published\": null,\n  \"date_updated\": null,\n  \"provenance\": \"noaa.org\",\n  \"original_identifier\": null,\n  \"materialization\": {\n    \"python_path\": \"nooa_materializer\",\n    \"arguments\": {\n      \"type\": \"TAVG\"\n    }\n  },\n  \"variables\": [\n    {\n      \"datamart_id\": 1,\n      \"name\": \"date\",\n      \"description\": \"the date of data\",\n      \"semantic_type\": [\n        \"https://metadata.datadrivendiscovery.org/types/Time\"\n      ],\n      \"temporal_coverage\": {\n        \"start\": \"1994-03-19T00:00:00\",\n        \"end\": \"1996-05-28T00:00:00\"\n      }\n    },\n    {\n      \"datamart_id\": 2,\n      \"name\": \"stationId\",\n      \"description\": \"the id of station which has this data\",\n      \"semantic_type\": [\n        \"https://metadata.datadrivendiscovery.org/types/CategoricalData\"\n      ]\n    },\n    {\n      \"datamart_id\": 3,\n      \"name\": \"city\",\n      \"description\": \"the city data belongs to\",\n      \"semantic_type\": [\n        \"https://metadata.datadrivendiscovery.org/types/Location\"\n      ],\n      \"named_entity\": [\n        \"los angeles\"\n      ]\n    },\n    {\n      \"datamart_id\": 4,\n      \"name\": \"TAVG\",\n      \"description\": \"Average temperature (tenths of degrees C)[Note that TAVG from source 'S' corresponds to an average for the period ending at 2400 UTC rather than local midnight]\",\n      \"semantic_type\": [\n        \"http://schema.org/Float\"\n      ]\n    }\n  ],\n  \"license\": null\n}\n"
     ]
    }
   ],
   "source": [
    "print(json.dumps(this_metadata, indent=2))"
   ]
  },
  {
   "cell_type": "code",
   "execution_count": 59,
   "metadata": {},
   "outputs": [],
   "source": [
    "qm.create_doc(index='datamart_tmp', doc_type='document', body=this_metadata, id=this_metadata['datamart_id'])\n",
    "time.sleep(1)"
   ]
  },
  {
   "cell_type": "code",
   "execution_count": 60,
   "metadata": {},
   "outputs": [],
   "source": [
    "query_1 = json.dumps({\n",
    "    \"query\": {\n",
    "        \"bool\": {\n",
    "            \"must\": [\n",
    "                {\n",
    "                    \"match\": {\n",
    "                        \"variables.named_entity\": \"los angeles\"\n",
    "                    }\n",
    "                }\n",
    "            ]\n",
    "        }\n",
    "    }\n",
    "})"
   ]
  },
  {
   "cell_type": "code",
   "execution_count": 61,
   "metadata": {},
   "outputs": [
    {
     "name": "stdout",
     "output_type": "stream",
     "text": [
      "1\n"
     ]
    }
   ],
   "source": [
    "hitted_metadatas = qm.search(index=es_index, body=query_1)\n",
    "\n",
    "print(len(hitted_metadatas))"
   ]
  },
  {
   "cell_type": "markdown",
   "metadata": {},
   "source": [
    "Materialize data"
   ]
  },
  {
   "cell_type": "code",
   "execution_count": 62,
   "metadata": {},
   "outputs": [
    {
     "name": "stdout",
     "output_type": "stream",
     "text": [
      "====== HIT a metadata ======\n{\n  \"datamart_id\": 0,\n  \"title\": \"TAVG\",\n  \"description\": \"Average temperature (tenths of degrees C)[Note that TAVG from source 'S' corresponds to an average for the period ending at 2400 UTC rather than local midnight]\",\n  \"url\": \"https://www1.ncdc.noaa.gov/pub/data/ghcn/daily/readme.txt\",\n  \"keywords\": [\n    \"Average\",\n    \"cloudiness\",\n    \"midnight\",\n    \"to\",\n    \"midnight\",\n    \"from\",\n    \"30-second\",\n    \"ceilometer\",\n    \"data\"\n  ],\n  \"date_published\": null,\n  \"date_updated\": null,\n  \"provenance\": \"noaa.org\",\n  \"original_identifier\": null,\n  \"materialization\": {\n    \"python_path\": \"nooa_materializer\",\n    \"arguments\": {\n      \"type\": \"TAVG\"\n    }\n  },\n  \"variables\": [\n    {\n      \"datamart_id\": 1,\n      \"name\": \"date\",\n      \"description\": \"the date of data\",\n      \"semantic_type\": [\n        \"https://metadata.datadrivendiscovery.org/types/Time\"\n      ],\n      \"temporal_coverage\": {\n        \"start\": \"1994-03-19T00:00:00\",\n        \"end\": \"1996-05-28T00:00:00\"\n      }\n    },\n    {\n      \"datamart_id\": 2,\n      \"name\": \"stationId\",\n      \"description\": \"the id of station which has this data\",\n      \"semantic_type\": [\n        \"https://metadata.datadrivendiscovery.org/types/CategoricalData\"\n      ]\n    },\n    {\n      \"datamart_id\": 3,\n      \"name\": \"city\",\n      \"description\": \"the city data belongs to\",\n      \"semantic_type\": [\n        \"https://metadata.datadrivendiscovery.org/types/Location\"\n      ],\n      \"named_entity\": [\n        \"los angeles\"\n      ]\n    },\n    {\n      \"datamart_id\": 4,\n      \"name\": \"TAVG\",\n      \"description\": \"Average temperature (tenths of degrees C)[Note that TAVG from source 'S' corresponds to an average for the period ending at 2400 UTC rather than local midnight]\",\n      \"semantic_type\": [\n        \"http://schema.org/Float\"\n      ]\n    }\n  ],\n  \"license\": null\n}\n\n\n\n====== GET the dataset ======\n"
     ]
    },
    {
     "name": "stdout",
     "output_type": "stream",
     "text": [
      "                  date          stationid         city TAVG\n0  2018-09-23T00:00:00  GHCND:USR0000CACT  los angeles  233\n1  2018-09-23T00:00:00  GHCND:USR0000CBEV  los angeles  206\n2  2018-09-23T00:00:00  GHCND:USR0000CCHB  los angeles  228\n3  2018-09-23T00:00:00  GHCND:USR0000CCHI  los angeles  218\n4  2018-09-23T00:00:00  GHCND:USR0000CCLE  los angeles  237\n5  2018-09-23T00:00:00  GHCND:USR0000CCP9  los angeles  224\n6  2018-09-23T00:00:00  GHCND:USR0000CLTU  los angeles  215\n7  2018-09-23T00:00:00  GHCND:USR0000CMAL  los angeles  197\n8  2018-09-23T00:00:00  GHCND:USR0000CMIL  los angeles  212\n9  2018-09-23T00:00:00  GHCND:USR0000CSFD  los angeles  222\n\n\n\n"
     ]
    }
   ],
   "source": [
    "for metadata in hitted_metadatas:\n",
    "    print(\"====== HIT a metadata ======\")\n",
    "    print(json.dumps(metadata, indent=2))\n",
    "    print(\"\\n\\n\")\n",
    "    print(\"====== GET the dataset ======\")\n",
    "    df = qm.get_dataset(metadata=metadata)\n",
    "    print(df.iloc[:10, :])\n",
    "    print(\"\\n\\n\")"
   ]
  },
  {
   "cell_type": "code",
   "execution_count": null,
   "metadata": {},
   "outputs": [],
   "source": []
  }
 ],
 "metadata": {
  "kernelspec": {
   "display_name": "Python 2",
   "language": "python",
   "name": "python2"
  },
  "language_info": {
   "codemirror_mode": {
    "name": "ipython",
    "version": 2
   },
   "file_extension": ".py",
   "mimetype": "text/x-python",
   "name": "python",
   "nbconvert_exporter": "python",
   "pygments_lexer": "ipython2",
   "version": "2.7.6"
  }
 },
 "nbformat": 4,
 "nbformat_minor": 0
}
