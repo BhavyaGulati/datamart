{
 "cells": [
  {
   "cell_type": "code",
   "execution_count": 6,
   "metadata": {
    "collapsed": true
   },
   "outputs": [],
   "source": [
    "import sys, json, random, os\n",
    "sys.path.append(sys.path.append(os.path.join(os.getcwd(), '..')))\n",
    "from datamart.index_builder import IndexBuilder\n",
    "from datamart.query_manager import QueryManager"
   ]
  },
  {
   "cell_type": "code",
   "execution_count": 7,
   "metadata": {},
   "outputs": [],
   "source": [
    "es_index = \"datamart_noaa\"\n",
    "\n",
    "qm = QueryManager()"
   ]
  },
  {
   "cell_type": "markdown",
   "metadata": {},
   "source": [
    "Query any indicator has `average` in its description"
   ]
  },
  {
   "cell_type": "code",
   "execution_count": 8,
   "metadata": {},
   "outputs": [],
   "source": [
    "query_1 = json.dumps({\n",
    "    \"query\": {\n",
    "        \"bool\": {\n",
    "            \"must\": [\n",
    "                {\n",
    "                    \"match\": {\n",
    "                        \"variables.named_entity\": \"Los Angeles\"\n",
    "                    }\n",
    "                },\n",
    "                {\n",
    "                    \"match\": {\n",
    "                        \"variables.named_entity\": \"new york\"\n",
    "                    }\n",
    "                },\n",
    "                {\n",
    "                    \"match\": {\n",
    "                        \"description\": \"average\"\n",
    "                    }\n",
    "                }\n",
    "            ]\n",
    "        }\n",
    "    }\n",
    "})"
   ]
  },
  {
   "cell_type": "code",
   "execution_count": 9,
   "metadata": {},
   "outputs": [
    {
     "name": "stdout",
     "output_type": "stream",
     "text": [
      "6\n"
     ]
    }
   ],
   "source": [
    "hitted_metadatas = qm.search(index=es_index, body=query_1)\n",
    "\n",
    "print(len(hitted_metadatas))"
   ]
  },
  {
   "cell_type": "code",
   "execution_count": 10,
   "metadata": {},
   "outputs": [
    {
     "name": "stdout",
     "output_type": "stream",
     "text": [
      "====== HIT a metadata ======\n\n\n====== GET the dataset ======\n"
     ]
    },
    {
     "name": "stdout",
     "output_type": "stream",
     "text": [
      "Empty DataFrame\nColumns: [date, stationid, city, ACSH]\nIndex: []\n\n\n\n====== HIT a metadata ======\n\n\n====== GET the dataset ======\n"
     ]
    },
    {
     "name": "stdout",
     "output_type": "stream",
     "text": [
      "Empty DataFrame\nColumns: [date, stationid, city, ACMC]\nIndex: []\n\n\n\n====== HIT a metadata ======\n\n\n====== GET the dataset ======\n"
     ]
    },
    {
     "name": "stdout",
     "output_type": "stream",
     "text": [
      "                   date          stationid         city AWND\n43  2018-10-06T00:00:00  GHCND:USW00014732     new york   36\n2   2018-10-04T00:00:00  GHCND:USW00023129  los angeles   26\n12  2018-10-05T00:00:00  GHCND:USW00023130  los angeles   17\n13  2018-10-05T00:00:00  GHCND:USW00023152  los angeles   22\n50  2018-10-06T00:00:00  GHCND:USW00094789     new york   43\n33  2018-10-04T00:00:00  GHCND:USW00094745     new york   14\n7   2018-10-04T00:00:00  GHCND:USW00093184  los angeles   20\n40  2018-10-05T00:00:00  GHCND:USW00094741     new york   26\n34  2018-10-04T00:00:00  GHCND:USW00094789     new york   33\n48  2018-10-06T00:00:00  GHCND:USW00094741     new york   25\n\n\n\n====== HIT a metadata ======\n\n\n====== GET the dataset ======\n"
     ]
    },
    {
     "name": "stdout",
     "output_type": "stream",
     "text": [
      "Empty DataFrame\nColumns: [date, stationid, city, ACMH]\nIndex: []\n\n\n\n====== HIT a metadata ======\n\n\n====== GET the dataset ======\n"
     ]
    },
    {
     "name": "stdout",
     "output_type": "stream",
     "text": [
      "Empty DataFrame\nColumns: [date, stationid, city, ACSC]\nIndex: []\n\n\n\n====== HIT a metadata ======\n\n\n====== GET the dataset ======\n"
     ]
    },
    {
     "name": "stdout",
     "output_type": "stream",
     "text": [
      "                   date          stationid         city TAVG\n72  2018-10-07T00:00:00  GHCND:USW00014732     new york  226\n16  2018-10-05T00:00:00  GHCND:USR0000CCHI  los angeles  141\n41  2018-10-07T00:00:00  GHCND:USR0000CCHB  los angeles  192\n32  2018-10-06T00:00:00  GHCND:USR0000CLTU  los angeles  173\n19  2018-10-05T00:00:00  GHCND:USR0000CLTU  los angeles  182\n20  2018-10-05T00:00:00  GHCND:USR0000CMAL  los angeles  183\n49  2018-10-07T00:00:00  GHCND:USR0000CWHH  los angeles  184\n8   2018-10-04T00:00:00  GHCND:USR0000CMIL  los angeles  114\n39  2018-10-07T00:00:00  GHCND:USR0000CACT  los angeles  154\n48  2018-10-07T00:00:00  GHCND:USR0000CSFD  los angeles  201\n\n\n\n"
     ]
    }
   ],
   "source": [
    "for metadata in hitted_metadatas:\n",
    "    print(\"====== HIT a metadata ======\")\n",
    "    print(\"\\n\")\n",
    "    print(\"====== GET the dataset ======\")\n",
    "    df = qm.get_dataset(metadata=metadata, variables=None, constrains={\n",
    "        \"locations\": [\"los angeles\", \"new york\"],\n",
    "        \"date_range\": {\n",
    "            \"start\": \"2018-09-23T00:00:00\",\n",
    "            \"end\": \"2018-10-01T00:00:00\"\n",
    "        }\n",
    "    })\n",
    "    if df.shape[0] >= 10:\n",
    "        print(df.iloc[random.sample(range(1, df.shape[0]), 10), :])\n",
    "    else:\n",
    "        print(df)\n",
    "    print(\"\\n\\n\")"
   ]
  },
  {
   "cell_type": "code",
   "execution_count": null,
   "metadata": {},
   "outputs": [],
   "source": []
  }
 ],
 "metadata": {
  "kernelspec": {
   "display_name": "Python 2",
   "language": "python",
   "name": "python2"
  },
  "language_info": {
   "codemirror_mode": {
    "name": "ipython",
    "version": 2
   },
   "file_extension": ".py",
   "mimetype": "text/x-python",
   "name": "python",
   "nbconvert_exporter": "python",
   "pygments_lexer": "ipython2",
   "version": "2.7.6"
  }
 },
 "nbformat": 4,
 "nbformat_minor": 0
}
