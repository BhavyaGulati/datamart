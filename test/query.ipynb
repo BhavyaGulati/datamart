{
 "cells": [
  {
   "cell_type": "code",
   "execution_count": 1,
   "metadata": {
    "collapsed": true
   },
   "outputs": [],
   "source": [
    "import sys, json, random, os\n",
    "sys.path.append(sys.path.append(os.path.join(os.getcwd(), '..')))\n",
    "from datamart.index_builder import IndexBuilder\n",
    "from datamart.query_manager import QueryManager"
   ]
  },
  {
   "cell_type": "code",
   "execution_count": 2,
   "metadata": {},
   "outputs": [],
   "source": [
    "es_index = \"datamart_noaa\"\n",
    "\n",
    "qm = QueryManager()"
   ]
  },
  {
   "cell_type": "markdown",
   "metadata": {},
   "source": [
    "Query any indicator has `average` in its description"
   ]
  },
  {
   "cell_type": "code",
   "execution_count": 3,
   "metadata": {},
   "outputs": [],
   "source": [
    "query_1 = json.dumps({\n",
    "    \"query\": {\n",
    "        \"bool\": {\n",
    "            \"must\": [\n",
    "                {\n",
    "                    \"match\": {\n",
    "                        \"variables.named_entity\": \"Los Angeles\"\n",
    "                    }\n",
    "                },\n",
    "                {\n",
    "                    \"match\": {\n",
    "                        \"variables.named_entity\": \"new york\"\n",
    "                    }\n",
    "                },\n",
    "                {\n",
    "                    \"match\": {\n",
    "                        \"description\": \"average\"\n",
    "                    }\n",
    "                }\n",
    "            ]\n",
    "        }\n",
    "    }\n",
    "})"
   ]
  },
  {
   "cell_type": "code",
   "execution_count": 4,
   "metadata": {},
   "outputs": [
    {
     "name": "stdout",
     "output_type": "stream",
     "text": [
      "6\n"
     ]
    }
   ],
   "source": [
    "hitted_metadatas = qm.search(index=es_index, body=query_1)\n",
    "\n",
    "print(len(hitted_metadatas))"
   ]
  },
  {
   "cell_type": "code",
   "execution_count": 5,
   "metadata": {},
   "outputs": [
    {
     "name": "stdout",
     "output_type": "stream",
     "text": [
      "====== HIT a metadata ======\n\n\n====== GET the dataset ======\n"
     ]
    },
    {
     "name": "stdout",
     "output_type": "stream",
     "text": [
      "Empty DataFrame\nColumns: [date, stationid, city, ACSH]\nIndex: []\n\n\n\n====== HIT a metadata ======\n\n\n====== GET the dataset ======\n"
     ]
    },
    {
     "name": "stdout",
     "output_type": "stream",
     "text": [
      "Empty DataFrame\nColumns: [date, stationid, city, ACMC]\nIndex: []\n\n\n\n====== HIT a metadata ======\n\n\n====== GET the dataset ======\n"
     ]
    },
    {
     "name": "stdout",
     "output_type": "stream",
     "text": [
      "                    date          stationid         city AWND\n21   2018-09-25T00:00:00  GHCND:USW00023130  los angeles   14\n114  2018-09-27T00:00:00  GHCND:USW00014734     new york   50\n147  2018-10-01T00:00:00  GHCND:USW00054743     new york    5\n26   2018-09-25T00:00:00  GHCND:USW00093197  los angeles   21\n137  2018-09-30T00:00:00  GHCND:USW00014732     new york   32\n9    2018-09-24T00:00:00  GHCND:USW00003166  los angeles   17\n42   2018-09-27T00:00:00  GHCND:USW00093134  los angeles    5\n40   2018-09-27T00:00:00  GHCND:USW00023152  los angeles   25\n36   2018-09-27T00:00:00  GHCND:USW00003166  los angeles   14\n125  2018-09-28T00:00:00  GHCND:USW00094728     new york   17\n\n\n\n====== HIT a metadata ======\n\n\n====== GET the dataset ======\n"
     ]
    },
    {
     "name": "stdout",
     "output_type": "stream",
     "text": [
      "Empty DataFrame\nColumns: [date, stationid, city, ACMH]\nIndex: []\n\n\n\n====== HIT a metadata ======\n\n\n====== GET the dataset ======\n"
     ]
    },
    {
     "name": "stdout",
     "output_type": "stream",
     "text": [
      "Empty DataFrame\nColumns: [date, stationid, city, ACSC]\nIndex: []\n\n\n\n====== HIT a metadata ======\n\n\n====== GET the dataset ======\n"
     ]
    },
    {
     "name": "stdout",
     "output_type": "stream",
     "text": [
      "                    date          stationid         city TAVG\n83   2018-09-30T00:00:00  GHCND:USR0000CCLE  los angeles  214\n34   2018-09-26T00:00:00  GHCND:USR0000CBEV  los angeles  204\n104  2018-10-01T00:00:00  GHCND:USW00023174  los angeles  222\n30   2018-09-25T00:00:00  GHCND:USR0000CMIL  los angeles  230\n43   2018-09-26T00:00:00  GHCND:USR0000CWHH  los angeles  199\n70   2018-09-29T00:00:00  GHCND:USR0000CCLE  los angeles  201\n24   2018-09-25T00:00:00  GHCND:USR0000CCHB  los angeles  182\n25   2018-09-25T00:00:00  GHCND:USR0000CCHI  los angeles  229\n48   2018-09-27T00:00:00  GHCND:USR0000CCLE  los angeles  271\n95   2018-10-01T00:00:00  GHCND:USR0000CCHI  los angeles  187\n\n\n\n"
     ]
    }
   ],
   "source": [
    "for metadata in hitted_metadatas:\n",
    "    print(\"====== HIT a metadata ======\")\n",
    "    print(\"\\n\")\n",
    "    print(\"====== GET the dataset ======\")\n",
    "    df = qm.get_dataset(metadata=metadata, variables=None, constrains={\n",
    "        \"locations\": [\"los angeles\", \"new york\"],\n",
    "        \"date_range\": {\n",
    "            \"start_date\": \"2018-09-23T00:00:00\",\n",
    "            \"end_date\": \"2018-10-01T00:00:00\"\n",
    "        }\n",
    "    })\n",
    "    if df.shape[0] >= 10:\n",
    "        print(df.iloc[random.sample(range(1, df.shape[0]), 10), :])\n",
    "    else:\n",
    "        print(df)\n",
    "    print(\"\\n\\n\")"
   ]
  },
  {
   "cell_type": "code",
   "execution_count": null,
   "metadata": {},
   "outputs": [],
   "source": []
  }
 ],
 "metadata": {
  "kernelspec": {
   "display_name": "Python 2",
   "language": "python",
   "name": "python2"
  },
  "language_info": {
   "codemirror_mode": {
    "name": "ipython",
    "version": 2
   },
   "file_extension": ".py",
   "mimetype": "text/x-python",
   "name": "python",
   "nbconvert_exporter": "python",
   "pygments_lexer": "ipython2",
   "version": "2.7.6"
  }
 },
 "nbformat": 4,
 "nbformat_minor": 0
}
