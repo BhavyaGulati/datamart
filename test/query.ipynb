{
 "cells": [
  {
   "cell_type": "code",
   "execution_count": 1,
   "metadata": {
    "collapsed": true
   },
   "outputs": [],
   "source": [
    "import sys, json, random, os\n",
    "sys.path.append(sys.path.append(os.path.join(os.getcwd(), '..')))\n",
    "from datamart.index_builder import IndexBuilder\n",
    "from datamart.query_manager import QueryManager"
   ]
  },
  {
   "cell_type": "code",
   "execution_count": 2,
   "metadata": {},
   "outputs": [],
   "source": [
    "es_index = \"datamart\"\n",
    "\n",
    "qm = QueryManager()"
   ]
  },
  {
   "cell_type": "markdown",
   "metadata": {},
   "source": [
    "Query any metadata has a column related temporal_coverage which has data in range `2018-01-01` to `2018-10-01`"
   ]
  },
  {
   "cell_type": "code",
   "execution_count": 3,
   "metadata": {},
   "outputs": [],
   "source": [
    "query_1 = json.dumps({\n",
    "    \"query\": {\n",
    "        \"bool\": {\n",
    "            \"must\": [\n",
    "                {\n",
    "                    \"range\": {\n",
    "                        \"variables.temporal_coverage.start\": {\n",
    "                            \"lte\": \"2018-01-01T00:00:00\"\n",
    "                        }\n",
    "                    }\n",
    "                },\n",
    "                {\n",
    "                    \"range\": {\n",
    "                        \"variables.temporal_coverage.end\": {\n",
    "                            \"gte\": \"2018-10-01T00:00:00\"\n",
    "                        }\n",
    "                    }\n",
    "                }\n",
    "            ]\n",
    "        }\n",
    "    }\n",
    "})\n"
   ]
  },
  {
   "cell_type": "code",
   "execution_count": 4,
   "metadata": {},
   "outputs": [
    {
     "name": "stdout",
     "output_type": "stream",
     "text": [
      "48\n"
     ]
    }
   ],
   "source": [
    "hitted_metadatas = qm.search(index=es_index, body=query_1)\n",
    "\n",
    "print(len(hitted_metadatas))"
   ]
  },
  {
   "cell_type": "code",
   "execution_count": 6,
   "metadata": {},
   "outputs": [
    {
     "name": "stdout",
     "output_type": "stream",
     "text": [
      "====== HIT a metadata on noaa.org======\n\n\n====== GET the dataset ======\n"
     ]
    },
    {
     "name": "stdout",
     "output_type": "stream",
     "text": [
      "                   date          stationid         city TOBS\n35  2018-09-28T00:00:00  GHCND:USC00047326  los angeles  206\n12  2018-09-24T00:00:00  GHCND:USW00003122  los angeles  200\n21  2018-09-26T00:00:00  GHCND:USC00041194  los angeles  161\n24  2018-09-26T00:00:00  GHCND:USC00049152  los angeles  217\n29  2018-09-27T00:00:00  GHCND:USC00046719  los angeles  194\n64  2018-09-24T00:00:00  GHCND:USC00280907     new york  172\n22  2018-09-26T00:00:00  GHCND:USC00042214  los angeles  206\n59  2018-10-01T00:00:00  GHCND:USW00003122  los angeles  244\n84  2018-09-28T00:00:00  GHCND:USC00283704     new york  133\n93  2018-09-30T00:00:00  GHCND:USC00283704     new york  117\n\n\n\n====== HIT a metadata on tradingeconomics.com======\n\n\n====== GET the dataset ======\n"
     ]
    },
    {
     "name": "stdout",
     "output_type": "stream",
     "text": [
      "             Country           Category                DateTime   Close  \\\n5576           Spain  5 Year Note Yield   8/29/2016 12:00:00 AM  0.0790   \n7287          France  5 Year Note Yield   6/23/2017 12:00:00 AM -0.2030   \n879           France  5 Year Note Yield   7/23/2014 12:00:00 AM  0.5470   \n4389           Italy  5 Year Note Yield   2/11/2016 12:00:00 AM  0.6580   \n6165   United States  5 Year Note Yield   12/8/2016 12:00:00 AM  1.8374   \n8166         Germany  5 Year Note Yield  11/24/2017 12:00:00 AM -0.3250   \n9077   United States  5 Year Note Yield    5/4/2018 12:00:00 AM  2.7837   \n7409           Japan  5 Year Note Yield   7/14/2017 12:00:00 AM -0.0450   \n3920       Australia  5 Year Note Yield  11/26/2015 12:00:00 AM  2.2870   \n2942  United Kingdom  5 Year Note Yield   6/22/2015 12:00:00 AM  1.5400   \n\n     Frequency HistoricalDataSymbol             LastUpdate  \n5576     Daily            SPAIN5YNY   9/12/2016 6:09:00 PM  \n7287     Daily           FRANCE5YNY   6/26/2017 3:19:00 PM  \n879      Daily           FRANCE5YNY   8/22/2016 5:44:00 PM  \n4389     Daily            ITALY5YNY   2/15/2016 9:41:00 AM  \n6165     Daily  UNITEDSTA5YEANOTYIE  12/8/2016 10:05:00 PM  \n8166     Daily          GERMANY5YNY  11/27/2017 8:31:00 AM  \n9077     Daily  UNITEDSTA5YEANOTYIE    5/4/2018 9:01:00 PM  \n7409     Daily      JAPAN5YEANOTYIE   7/17/2017 8:31:00 AM  \n3920     Daily        AUSTRALIA5YNY   12/8/2015 1:04:00 PM  \n2942     Daily  UNITEDKIN5YEANOTYIE   6/23/2015 7:04:00 AM  \n\n\n\n====== HIT a metadata on tradingeconomics.com======\n\n\n====== GET the dataset ======\n"
     ]
    },
    {
     "name": "stdout",
     "output_type": "stream",
     "text": [
      "            Country           Category                DateTime  Close  \\\n140   United States  4 Week Bill Yield   2/27/2007 12:00:00 AM  5.110   \n2937  United States  4 Week Bill Yield   9/29/2017 12:00:00 AM  0.949   \n1544  United States  4 Week Bill Yield   6/20/2012 12:00:00 AM  0.056   \n900   United States  4 Week Bill Yield   1/12/2010 12:00:00 AM  0.008   \n2993  United States  4 Week Bill Yield  12/18/2017 12:00:00 AM  1.238   \n354   United States  4 Week Bill Yield  12/19/2007 12:00:00 AM  2.530   \n533   United States  4 Week Bill Yield   8/25/2008 12:00:00 AM  1.620   \n2732  United States  4 Week Bill Yield  12/16/2016 12:00:00 AM  0.459   \n3067  United States  4 Week Bill Yield   3/30/2018 12:00:00 AM  1.621   \n1604  United States  4 Week Bill Yield   9/11/2012 12:00:00 AM  0.091   \n\n     Frequency HistoricalDataSymbol             LastUpdate  \n140      Daily  UNITEDSTA4WEEBILYIE  11/14/2016 6:10:00 PM  \n2937     Daily  UNITEDSTA4WEEBILYIE   10/2/2017 8:35:00 AM  \n1544     Daily  UNITEDSTA4WEEBILYIE  11/14/2016 6:09:00 PM  \n900      Daily  UNITEDSTA4WEEBILYIE  11/14/2016 6:10:00 PM  \n2993     Daily  UNITEDSTA4WEEBILYIE  12/19/2017 8:32:00 AM  \n354      Daily  UNITEDSTA4WEEBILYIE  11/14/2016 6:10:00 PM  \n533      Daily  UNITEDSTA4WEEBILYIE  11/14/2016 6:10:00 PM  \n2732     Daily  UNITEDSTA4WEEBILYIE  12/19/2016 8:32:00 AM  \n3067     Daily  UNITEDSTA4WEEBILYIE    4/2/2018 8:33:00 AM  \n1604     Daily  UNITEDSTA4WEEBILYIE  11/14/2016 6:09:00 PM  \n\n\n\n====== HIT a metadata on tradingeconomics.com======\n\n\n====== GET the dataset ======\n"
     ]
    },
    {
     "name": "stdout",
     "output_type": "stream",
     "text": [
      "            Country                   Category                DateTime  Close  \\\n608   United States  Natural Gas Stocks Change    9/2/2005 12:00:00 AM   36.0   \n1234  United States  Natural Gas Stocks Change   8/25/2017 12:00:00 AM   30.0   \n175   United States  Natural Gas Stocks Change   5/16/1997 12:00:00 AM   58.0   \n1217  United States  Natural Gas Stocks Change   4/28/2017 12:00:00 AM   67.0   \n724   United States  Natural Gas Stocks Change  11/23/2007 12:00:00 AM  -12.0   \n76    United States  Natural Gas Stocks Change   6/23/1995 12:00:00 AM   87.0   \n1072  United States  Natural Gas Stocks Change   7/25/2014 12:00:00 AM   88.0   \n519   United States  Natural Gas Stocks Change  12/19/2003 12:00:00 AM -151.0   \n350   United States  Natural Gas Stocks Change   9/22/2000 12:00:00 AM   74.0   \n1168  United States  Natural Gas Stocks Change   5/20/2016 12:00:00 AM   71.0   \n\n     Frequency  HistoricalDataSymbol            LastUpdate  \n608     Weekly  UNITEDSTANATGASSTOCH  5/28/2015 6:26:00 PM  \n1234    Weekly  UNITEDSTANATGASSTOCH  8/31/2017 2:28:00 PM  \n175     Weekly  UNITEDSTANATGASSTOCH  5/28/2015 6:26:00 PM  \n1217    Weekly  UNITEDSTANATGASSTOCH   5/4/2017 2:29:00 PM  \n724     Weekly  UNITEDSTANATGASSTOCH  5/28/2015 6:26:00 PM  \n76      Weekly  UNITEDSTANATGASSTOCH  5/28/2015 6:26:00 PM  \n1072    Weekly  UNITEDSTANATGASSTOCH  5/28/2015 6:26:00 PM  \n519     Weekly  UNITEDSTANATGASSTOCH  5/28/2015 6:26:00 PM  \n350     Weekly  UNITEDSTANATGASSTOCH  5/28/2015 6:26:00 PM  \n1168    Weekly  UNITEDSTANATGASSTOCH  5/26/2016 3:31:00 PM  \n\n\n\n====== HIT a metadata on tradingeconomics.com======\n\n\n====== GET the dataset ======\n"
     ]
    },
    {
     "name": "stdout",
     "output_type": "stream",
     "text": [
      "         Country                   Category                DateTime  \\\n6027     Vietnam  Foreign Direct Investment  11/30/2011 12:00:00 AM   \n9385   Sri Lanka  Foreign Direct Investment   6/30/2017 12:00:00 AM   \n4051       China  Foreign Direct Investment   2/29/2008 12:00:00 AM   \n7619     Lebanon  Foreign Direct Investment   8/31/2014 12:00:00 AM   \n4434      Taiwan  Foreign Direct Investment  11/30/2008 12:00:00 AM   \n5108  Azerbaijan  Foreign Direct Investment   3/31/2010 12:00:00 AM   \n3700      Canada  Foreign Direct Investment   6/30/2007 12:00:00 AM   \n8402       China  Foreign Direct Investment  12/31/2015 12:00:00 AM   \n4643      Serbia  Foreign Direct Investment   3/31/2009 12:00:00 AM   \n7377       India  Foreign Direct Investment   3/31/2014 12:00:00 AM   \n\n          Close  Frequency HistoricalDataSymbol             LastUpdate  \n6027     10.100    Monthly     VIETNAMFORDIRINV   8/27/2018 1:03:00 PM  \n9385    243.000  Quarterly    SRILANKAFORDIRINV    4/3/2018 1:19:00 PM  \n4051    181.280    Monthly       CHINAFORDIRINV  2/16/2017 11:56:00 AM  \n7619    226.640    Monthly     LEBANONFORDIRINV  8/29/2018 10:20:00 AM  \n4434    714.662    Monthly      TAIWANFORDIRINV  5/20/2016 11:22:00 AM  \n5108    705.000  Quarterly  AZERBAIJANFORDIRINV   5/13/2015 5:50:00 PM  \n3700  24153.000  Quarterly      CANADAFORDIRINV   8/30/2016 1:54:00 PM  \n8402   1262.670    Monthly       CHINAFORDIRINV  2/16/2017 11:56:00 AM  \n4643    117.200    Monthly      SERBIAFORDIRINV   1/25/2018 4:18:00 PM  \n7377   2133.000    Monthly       INDIAFORDIRINV   6/12/2014 5:20:00 PM  \n\n\n\n====== HIT a metadata on tradingeconomics.com======\n\n\n====== GET the dataset ======\n"
     ]
    },
    {
     "name": "stdout",
     "output_type": "stream",
     "text": [
      "            Country               Category                DateTime    Close  \\\n464   United States  Mortgage Applications   4/26/2013 12:00:00 AM      1.8   \n420   United States  Mortgage Applications   8/10/2012 12:00:00 AM     -4.5   \n85   United Kingdom  Mortgage Applications  10/31/2004 12:00:00 AM  58042.0   \n391  United Kingdom  Mortgage Applications   2/29/2012 12:00:00 AM  33204.0   \n738   United States  Mortgage Applications   8/18/2017 12:00:00 AM     -0.5   \n670   United States  Mortgage Applications   7/22/2016 12:00:00 AM    -11.2   \n35   United Kingdom  Mortgage Applications   8/31/2000 12:00:00 AM  52933.0   \n454  United Kingdom  Mortgage Applications   2/28/2013 12:00:00 AM  31009.0   \n376   United States  Mortgage Applications   12/2/2011 12:00:00 AM     12.8   \n387   United States  Mortgage Applications    2/3/2012 12:00:00 AM      7.5   \n\n    Frequency HistoricalDataSymbol             LastUpdate  \n464    Weekly      UNITEDSTAMORAPP   5/28/2015 6:17:00 PM  \n420    Weekly      UNITEDSTAMORAPP   5/28/2015 6:17:00 PM  \n85    Monthly    UNITEDKINMORAPPLI   8/24/2018 8:48:00 AM  \n391   Monthly    UNITEDKINMORAPPLI   9/26/2018 8:49:00 AM  \n738    Weekly      UNITEDSTAMORAPP  8/23/2017 11:00:00 AM  \n670    Weekly      UNITEDSTAMORAPP  7/27/2016 12:00:00 PM  \n35    Monthly    UNITEDKINMORAPPLI   9/26/2018 8:49:00 AM  \n454   Monthly    UNITEDKINMORAPPLI   8/24/2018 8:48:00 AM  \n376    Weekly      UNITEDSTAMORAPP   5/28/2015 6:17:00 PM  \n387    Weekly      UNITEDSTAMORAPP   5/28/2015 6:17:00 PM  \n\n\n\n====== HIT a metadata on tradingeconomics.com======\n\n\n====== GET the dataset ======\n"
     ]
    },
    {
     "name": "stdout",
     "output_type": "stream",
     "text": [
      "           Country                    Category                DateTime  \\\n74   United States  API Crude Oil Stock Change   11/1/2013 12:00:00 AM   \n303  United States  API Crude Oil Stock Change   3/23/2018 12:00:00 AM   \n299  United States  API Crude Oil Stock Change   2/23/2018 12:00:00 AM   \n91   United States  API Crude Oil Stock Change   2/28/2014 12:00:00 AM   \n8    United States  API Crude Oil Stock Change   5/18/2012 12:00:00 AM   \n129  United States  API Crude Oil Stock Change  11/21/2014 12:00:00 AM   \n177  United States  API Crude Oil Stock Change  10/23/2015 12:00:00 AM   \n116  United States  API Crude Oil Stock Change   8/22/2014 12:00:00 AM   \n244  United States  API Crude Oil Stock Change    2/3/2017 12:00:00 AM   \n239  United States  API Crude Oil Stock Change  12/30/2016 12:00:00 AM   \n\n      Close Frequency HistoricalDataSymbol             LastUpdate  \n74    0.870    Weekly          APICRUDEOIL  11/28/2017 4:49:00 PM  \n303   5.321    Weekly          APICRUDEOIL    4/3/2018 8:33:00 PM  \n299   0.933    Weekly          APICRUDEOIL    3/6/2018 9:32:00 PM  \n91    1.170    Weekly          APICRUDEOIL  11/28/2017 4:49:00 PM  \n8     1.480    Weekly          APICRUDEOIL  11/28/2017 4:49:00 PM  \n129   2.800    Weekly          APICRUDEOIL  11/28/2017 4:49:00 PM  \n177   4.100    Weekly          APICRUDEOIL  11/28/2017 4:49:00 PM  \n116  -1.300    Weekly          APICRUDEOIL  11/28/2017 4:49:00 PM  \n244  14.230    Weekly          APICRUDEOIL  11/28/2017 4:49:00 PM  \n239  -7.430    Weekly          APICRUDEOIL  11/28/2017 4:49:00 PM  \n\n\n\n====== HIT a metadata on tradingeconomics.com======\n\n\n====== GET the dataset ======\n"
     ]
    },
    {
     "name": "stdout",
     "output_type": "stream",
     "text": [
      "             Country           Category                DateTime       Close  \\\n5844          Brazil  Consumer Spending  12/31/2007 12:00:00 AM  432651.751   \n5413         Belgium  Consumer Spending   9/30/2006 12:00:00 AM   47540.000   \n623   United Kingdom  Consumer Spending   3/31/1975 12:00:00 AM  111933.000   \n6323           India  Consumer Spending   3/31/2009 12:00:00 AM    6709.200   \n5323        Thailand  Consumer Spending   3/31/2006 12:00:00 AM  991603.000   \n4731           Spain  Consumer Spending   6/30/2004 12:00:00 AM  122031.000   \n2104     Switzerland  Consumer Spending   9/30/1993 12:00:00 AM   63893.700   \n9802         Austria  Consumer Spending   6/30/2018 12:00:00 AM   40819.200   \n4029           Malta  Consumer Spending   3/31/2002 12:00:00 AM  809354.000   \n9643       Hong Kong  Consumer Spending  12/31/2017 12:00:00 AM  464128.000   \n\n      Frequency HistoricalDataSymbol             LastUpdate  \n5844  Quarterly         BRAZILCONSPE   12/1/2017 2:44:00 PM  \n5413  Quarterly        BELGIUMCONSPE  6/11/2018 12:18:00 PM  \n623   Quarterly      UNITEDKINCONSPE   6/29/2018 9:51:00 AM  \n6323  Quarterly          INDIACONSPE   9/28/2012 9:35:00 PM  \n5323  Quarterly       THAILANDCONSPE  2/19/2018 11:04:00 AM  \n4731  Quarterly          SPAINCONSPE  8/27/2015 11:07:00 AM  \n2104  Quarterly     SWITZERLANCONSPE    9/5/2017 4:04:00 PM  \n9802  Quarterly        AUSTRIACONSPE   9/8/2018 10:01:00 AM  \n4029  Quarterly          MALTACONSPE  3/22/2016 11:09:00 AM  \n9643  Quarterly       HONGKONGCONSPE   5/11/2018 4:33:00 PM  \n\n\n\n====== HIT a metadata on noaa.org======\n\n\n====== GET the dataset ======\n"
     ]
    },
    {
     "name": "stdout",
     "output_type": "stream",
     "text": [
      "                   date          stationid         city WESD\n18  2018-09-30T00:00:00  GHCND:US1NYWC0018     new york    0\n8   2018-09-30T00:00:00  GHCND:US1CALA0001  los angeles    0\n1   2018-09-24T00:00:00  GHCND:US1CALA0001  los angeles    0\n4   2018-09-27T00:00:00  GHCND:US1CALA0001  los angeles    0\n14  2018-09-26T00:00:00  GHCND:US1NYWC0018     new york    0\n19  2018-10-01T00:00:00  GHCND:US1NJMD0062     new york    0\n7   2018-09-29T00:00:00  GHCND:US1CALA0001  los angeles    0\n20  2018-10-01T00:00:00  GHCND:US1NYWC0018     new york    0\n12  2018-09-24T00:00:00  GHCND:US1NYWC0018     new york    0\n13  2018-09-25T00:00:00  GHCND:US1NYWC0018     new york    0\n\n\n\n====== HIT a metadata on tradingeconomics.com======\n\n\n====== GET the dataset ======\n"
     ]
    },
    {
     "name": "stdout",
     "output_type": "stream",
     "text": [
      "         Country      Category                DateTime  Close Frequency  \\\n4468       Egypt  Lending Rate    4/9/2013 12:00:00 AM  10.75     Daily   \n8678       Egypt  Lending Rate   4/14/2017 12:00:00 AM  15.75     Daily   \n8566      Turkey  Lending Rate    3/3/2017 12:00:00 AM   9.25     Daily   \n5244      Serbia  Lending Rate  12/31/2013 12:00:00 AM  12.00   Monthly   \n2147   Mauritius  Lending Rate   1/31/2011 12:00:00 AM   8.50   Monthly   \n1711  Mozambique  Lending Rate   8/31/2010 12:00:00 AM  16.89   Monthly   \n4669      Turkey  Lending Rate   6/19/2013 12:00:00 AM   6.50     Daily   \n9264       Egypt  Lending Rate   11/7/2017 12:00:00 AM  19.75     Daily   \n5451   Euro Area  Lending Rate   3/13/2014 12:00:00 AM   0.75     Daily   \n5093   Euro Area  Lending Rate  11/11/2013 12:00:00 AM   1.00     Daily   \n\n     HistoricalDataSymbol             LastUpdate  \n4468          EGYPTLENRAT  7/21/2015 12:38:00 PM  \n8678          EGYPTLENRAT  4/15/2017 10:26:00 AM  \n8566         TURKEYLENRAT   3/4/2017 10:21:00 AM  \n5244         SERBIALENRAT    9/7/2016 4:28:00 PM  \n2147      MAURITIUSLENRAT   9/10/2015 2:32:00 PM  \n1711     MOZAMBIQUELENRAT   2/15/2016 5:24:00 PM  \n4669         TURKEYLENRAT  7/21/2015 12:15:00 PM  \n9264          EGYPTLENRAT   11/8/2017 8:31:00 AM  \n5451       EUROAREALENRAT   3/10/2016 2:47:00 PM  \n5093       EUROAREALENRAT   3/10/2016 2:47:00 PM  \n\n\n\n"
     ]
    }
   ],
   "source": [
    "for metadata in hitted_metadatas[10:20]:\n",
    "    print(\"====== HIT a metadata on {}======\".format(metadata[\"provenance\"]))\n",
    "    print(\"\\n\")\n",
    "    print(\"====== GET the dataset ======\")\n",
    "    df = qm.get_dataset(metadata=metadata, variables=None, constrains={\n",
    "        \"locations\": [\"los angeles\", \"new york\"],\n",
    "        \"date_range\": {\n",
    "            \"start\": \"2018-09-23T00:00:00\",\n",
    "            \"end\": \"2018-10-01T00:00:00\"\n",
    "        }\n",
    "    })\n",
    "    if df.shape[0] >= 10:\n",
    "        print(df.iloc[random.sample(range(1, df.shape[0]), 10), :])\n",
    "    else:\n",
    "        print(df)\n",
    "    print(\"\\n\\n\")"
   ]
  },
  {
   "cell_type": "code",
   "execution_count": null,
   "metadata": {},
   "outputs": [],
   "source": []
  }
 ],
 "metadata": {
  "kernelspec": {
   "display_name": "Python 2",
   "language": "python",
   "name": "python2"
  },
  "language_info": {
   "codemirror_mode": {
    "name": "ipython",
    "version": 2
   },
   "file_extension": ".py",
   "mimetype": "text/x-python",
   "name": "python",
   "nbconvert_exporter": "python",
   "pygments_lexer": "ipython2",
   "version": "2.7.6"
  }
 },
 "nbformat": 4,
 "nbformat_minor": 0
}
